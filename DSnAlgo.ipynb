{
  "nbformat": 4,
  "nbformat_minor": 0,
  "metadata": {
    "colab": {
      "provenance": [],
      "toc_visible": true,
      "authorship_tag": "ABX9TyPb2qtz2OG2Fa+Bs25dipAX",
      "include_colab_link": true
    },
    "kernelspec": {
      "name": "python3",
      "display_name": "Python 3"
    },
    "language_info": {
      "name": "python"
    }
  },
  "cells": [
    {
      "cell_type": "markdown",
      "metadata": {
        "id": "view-in-github",
        "colab_type": "text"
      },
      "source": [
        "<a href=\"https://colab.research.google.com/github/rajahwu/DSnAlgo/blob/master/DSnAlgo.ipynb\" target=\"_parent\"><img src=\"https://colab.research.google.com/assets/colab-badge.svg\" alt=\"Open In Colab\"/></a>"
      ]
    },
    {
      "cell_type": "markdown",
      "source": [
        "# Arrays"
      ],
      "metadata": {
        "id": "9GwsAaHJuqow"
      }
    },
    {
      "cell_type": "markdown",
      "source": [
        "\n",
        "## Find Minimum\n",
        "\n",
        "Given an Array of numbers, return the smallest number in the array. Do this in O(n) Time.\n",
        "\n",
        "```python\n",
        "list = [7, 5, 2, 3, 4, 1] \n",
        "findMinimum(list) # returns 1\n",
        "```\n",
        "\n",
        "---"
      ],
      "metadata": {
        "id": "7vK2yOYvzZs-"
      }
    },
    {
      "cell_type": "code",
      "source": [
        "# Find Minimum\n",
        "from math import inf\n",
        "def findMinimum(list):\n",
        "  min = inf\n",
        "  for n in list:\n",
        "    if n < min:\n",
        "      min = n\n",
        "  return min\n",
        "\n",
        "# Success: Array traversal, finding the minimum value.\n",
        "list = [7, 5, 2, 3, 4, 1] \n",
        "print(findMinimum(list)) # returns 1 \n",
        "\n",
        "# imporved\n",
        "def findMinimumImp(num_arr):\n",
        "  min = float(\"inf\")\n",
        "  for n in num_arr:\n",
        "    if n < min:\n",
        "      min = n\n",
        "  return min\n",
        "\n",
        "print(findMinimumImp(list)) # returns 1 \n"
      ],
      "metadata": {
        "colab": {
          "base_uri": "https://localhost:8080/"
        },
        "id": "13ZkOkG01Cmh",
        "outputId": "59acaa41-1f00-4202-fdc6-32781e0a8202"
      },
      "execution_count": 6,
      "outputs": [
        {
          "output_type": "stream",
          "name": "stdout",
          "text": [
            "1\n",
            "1\n"
          ]
        }
      ]
    },
    {
      "cell_type": "markdown",
      "source": [
        "\n",
        "## Running Sum of Array\n",
        "\n",
        "Given an array of numbers, return the running sum of its elements.\n",
        "\n",
        "Example:\n",
        "\n",
        "```python\n",
        "list = [1,2,3,4] \n",
        "runningSum(list) # returns [1,3,6,10]\n",
        "```\n",
        "---\n"
      ],
      "metadata": {
        "id": "ftd4tM4WzgWF"
      }
    },
    {
      "cell_type": "code",
      "source": [
        "def runningSum(list):\n",
        "  res = []\n",
        "  sum = 0\n",
        "  for n in list:\n",
        "    sum += n\n",
        "    res.append(sum)\n",
        "  return res\n",
        "\n",
        "# Success: Array traversal, cumulative sum calculation.\n",
        "list = [1,2,3,4]\n",
        "print(runningSum(list)) # returns [1,3,6,10]\n",
        "\n",
        "# improve\n",
        "def runningSumImp(num_arr):\n",
        "  return\n",
        "\n",
        "  \n"
      ],
      "metadata": {
        "colab": {
          "base_uri": "https://localhost:8080/"
        },
        "id": "vmtaUmAkzk7o",
        "outputId": "26e7c2ea-a4ba-412a-c473-a98dbe51fad8"
      },
      "execution_count": 9,
      "outputs": [
        {
          "output_type": "stream",
          "name": "stdout",
          "text": [
            "[1, 3, 6, 10]\n"
          ]
        }
      ]
    },
    {
      "cell_type": "markdown",
      "source": [
        "\n",
        "## Even Number of Characters\n",
        "\n",
        "Given an array of strings, return the number of strings with an even number of characters\n",
        "\n",
        "Example:\n",
        "\n",
        "```python\n",
        "list = ['ab', 'abc', 'a', 'abcd'] \n",
        "evenNumOfChars(list) # returns 2\n",
        "```\n",
        "\n",
        "---"
      ],
      "metadata": {
        "id": "zwHsNGXxzrkG"
      }
    },
    {
      "cell_type": "code",
      "source": [
        "# Even Number of Characters\n",
        "def evenNumOfChars(list):\n",
        "  return len([str for str in list if len(str) % 2 == 0])\n",
        "\n",
        "# Success: Array traversal, string length calculation, counting.\n",
        "list = ['ab', 'abc', 'a', 'abcd'] \n",
        "print(evenNumOfChars(list)) # returns 2\n",
        "\n",
        "# improved\n",
        "def evenNumOfCharsImp(chars_list):\n",
        "  return len([string for string in chars_list if len(string) % 2 == 0])\n",
        "\n",
        "print(evenNumOfCharsImp(list)) # returns 2"
      ],
      "metadata": {
        "colab": {
          "base_uri": "https://localhost:8080/"
        },
        "id": "qZtL3wT7zvje",
        "outputId": "84fba5c3-9927-4255-91c7-1070f59d3e23"
      },
      "execution_count": 11,
      "outputs": [
        {
          "output_type": "stream",
          "name": "stdout",
          "text": [
            "2\n",
            "2\n"
          ]
        }
      ]
    },
    {
      "cell_type": "markdown",
      "source": [
        "## How many numbers smaller than current number\n",
        "\n",
        "Given an array of numbers, return a new array containing the number of elements smaller than the current element at each position.\n",
        "\n",
        "Example:\n",
        "\n",
        "```python\n",
        "list = [8,1,2,2,3]\n",
        "smallerThanCurr(list) # returns [4,0,1,1,3]\n",
        "```\n",
        "\n",
        "---"
      ],
      "metadata": {
        "id": "zTvMCZd4zwU9"
      }
    },
    {
      "cell_type": "code",
      "source": [
        "# Numbers smaller than current\n",
        "def smallerThanCurr(list):\n",
        "  res = []\n",
        "  total = 0\n",
        "  for n in list:\n",
        "    total = 0\n",
        "    for i in list:\n",
        "      if n > i:\n",
        "        total += 1\n",
        "    res.append(total)\n",
        "  return res\n",
        "\n",
        "# Success: Array traversal, \n",
        "# counting the number of elements satisfying a condition.\n",
        "list = [8,1,2,2,3]\n",
        "print(smallerThanCurr(list)) # returns [4,0,1,1,3]\n",
        "\n",
        "# imporve\n",
        "# use sum() and list comprehension\n",
        "def smallerThanCurrImp(num_list):\n",
        "  return\n",
        "\n",
        "\n"
      ],
      "metadata": {
        "colab": {
          "base_uri": "https://localhost:8080/"
        },
        "id": "CTIkUbDXz2HF",
        "outputId": "bfa9b47b-a56a-4b3f-db55-76818b0f7e99"
      },
      "execution_count": 16,
      "outputs": [
        {
          "output_type": "execute_result",
          "data": {
            "text/plain": [
              "[4, 0, 1, 1, 3]"
            ]
          },
          "metadata": {},
          "execution_count": 16
        }
      ]
    },
    {
      "cell_type": "markdown",
      "source": [
        "\n",
        "## Two Sum\n",
        "Given an array of numbers and a target sum, your function should return a boolean value (true or false) if there are two elements in the array that add up to the target value.\n",
        "\n",
        "Example:\n",
        "\n",
        "```python\n",
        "list = [4, 2, 3, 6, 9] \n",
        "twoSum(list, 10) # returns True\n",
        "\n",
        "list2 = [4, 2, 3, 6, 9]\n",
        "twoSum(list2, 16) # returns False\n",
        "```\n",
        "\n",
        "---\n"
      ],
      "metadata": {
        "id": "jtz-NBmXz54m"
      }
    },
    {
      "cell_type": "code",
      "source": [
        "# Two Sum\n",
        "def twoSum(list, num):\n",
        "  for n in list:\n",
        "    for i in list:\n",
        "      if n + i == num:\n",
        "        return True\n",
        "  return False\n",
        "\n",
        "# Success: Array traversal, \n",
        "# searching for pairs of numbers that satisfy a condition.\n",
        "# list = [4, 2, 3, 6, 9] \n",
        "# twoSum(list, 10) # returns True\n",
        "list2 = [4, 2, 3, 6, 9]\n",
        "twoSum(list2, 16) # returns False\n",
        "\n",
        "# improve \n",
        "# improve the efficiency to O(n)\n",
        "# use set\n",
        "def twoSumImp(num_list, num):\n",
        "  pass"
      ],
      "metadata": {
        "colab": {
          "base_uri": "https://localhost:8080/"
        },
        "id": "6ZIxBDbmz7dF",
        "outputId": "1c51ca18-2a81-4425-b159-30b1e01f9cf0"
      },
      "execution_count": 20,
      "outputs": [
        {
          "output_type": "execute_result",
          "data": {
            "text/plain": [
              "True"
            ]
          },
          "metadata": {},
          "execution_count": 20
        }
      ]
    },
    {
      "cell_type": "markdown",
      "source": [
        "\n",
        "## Find Second Largest\n",
        "Given an array of numbers, return the second largest number in the array.\n",
        "\n",
        "Example:\n",
        "\n",
        "```python\n",
        "list = [4, 2, 3, 6, 8]\n",
        "secondLargest(list) # returns 6\n",
        "```\n",
        "\n",
        "---\n"
      ],
      "metadata": {
        "id": "hBefz_JFz8Cd"
      }
    },
    {
      "cell_type": "code",
      "source": [
        "# Second Largest\n",
        "from math import inf\n",
        "def largest(list):\n",
        "  max = -inf\n",
        "  for n in list:\n",
        "    if n > max:\n",
        "      max = n\n",
        "  return max\n",
        "    \n",
        "def secondLargest(list):\n",
        "  largestNum = largest(list)\n",
        "  max = -inf\n",
        "  for n in list:\n",
        "    if n > max and n < largestNum:\n",
        "      max = n\n",
        "  return max\n",
        "\n",
        "# Success:  Array traversal, \n",
        "# finding the maximum and second maximum values.\n",
        "list = [4, 2, 3, 6, 8]\n",
        "secondLargest(list) # returns 6\n",
        "\n",
        "# imporve\n",
        "# complete in single pass\n",
        "def secondLargestImp(num_list):\n",
        "  pass"
      ],
      "metadata": {
        "colab": {
          "base_uri": "https://localhost:8080/"
        },
        "id": "0r-hYC6Yz_YX",
        "outputId": "73a83238-0bd6-4e2b-d09c-41f1a36be8ae"
      },
      "execution_count": 42,
      "outputs": [
        {
          "output_type": "execute_result",
          "data": {
            "text/plain": [
              "6"
            ]
          },
          "metadata": {},
          "execution_count": 42
        }
      ]
    },
    {
      "cell_type": "markdown",
      "source": [
        "\n",
        "## Shuffle The Array\n",
        "Given an array, return an array containing those elements in random order.\n",
        "\n",
        "Your function should return a new array and NOT mutate the original.\n",
        "\n",
        "Hint: Look up Math.random() on MDN.\n",
        "\n",
        "Example:\n",
        "\n",
        "```python\n",
        "list = [2, 5, 1, 3, 4, 7]\n",
        "shuffle(list) # returns [2, 3, 5, 4, 1, 7]\n",
        "``` "
      ],
      "metadata": {
        "id": "66tFakThz_wE"
      }
    },
    {
      "cell_type": "code",
      "source": [
        "# Shuffle The Array\n",
        "from random import choice, shuffle\n",
        "def shuffle(list):\n",
        "  res = []\n",
        "  copy = list[:]\n",
        "  for i in list:\n",
        "    n = choice(copy)\n",
        "    res.append(copy.pop(copy.index(n)))\n",
        "  return res\n",
        "list = [2, 5, 1, 3, 4, 7]\n",
        "# Success: Array traversal, random shuffling.\n",
        "# shuffle(list) # returns [2, 3, 5, 4, 1, 7]\n",
        "\n",
        "for i in range(5):\n",
        "  print(shuffle(list))\n",
        "\n",
        "# improved\n",
        "def shuffleImp(num_list):\n",
        "  return shuffle(num_list)\n",
        "\n",
        "for i in range(5):\n",
        "  print(shuffleImp(list))\n",
        "\n"
      ],
      "metadata": {
        "colab": {
          "base_uri": "https://localhost:8080/"
        },
        "id": "lQT8R4rw0Jke",
        "outputId": "db385656-89c1-4dd6-dd37-10db3bd4b73c"
      },
      "execution_count": 13,
      "outputs": [
        {
          "output_type": "stream",
          "name": "stdout",
          "text": [
            "[2, 7, 5, 4, 1, 3]\n",
            "[7, 2, 1, 5, 3, 4]\n",
            "[4, 1, 5, 2, 3, 7]\n",
            "[1, 2, 5, 7, 4, 3]\n",
            "[7, 5, 1, 3, 2, 4]\n",
            "[4, 3, 5, 7, 1, 2]\n",
            "[1, 7, 2, 5, 4, 3]\n",
            "[3, 5, 7, 1, 2, 4]\n",
            "[4, 3, 2, 7, 1, 5]\n",
            "[1, 4, 7, 3, 5, 2]\n"
          ]
        }
      ]
    },
    {
      "cell_type": "markdown",
      "source": [
        "# Selection Sort"
      ],
      "metadata": {
        "id": "dOiP31ZF_5jv"
      }
    },
    {
      "cell_type": "code",
      "source": [
        "def findSmallest(arr):\n",
        "  smallest = arr[0]\n",
        "  smallest_index = 0\n",
        "  for i in range(1, len(arr)):\n",
        "    if arr[i] < smallest:\n",
        "      smallest = arr[i]\n",
        "      smallest_index = i\n",
        "  return smallest_index\n",
        "\n",
        "def selectionSort(arr):\n",
        "  newArr = []\n",
        "  for i in range(len(arr)):\n",
        "    smallest = findSmallest(arr)\n",
        "    newArr.append(arr.pop(smallest))\n",
        "  return newArr\n",
        "\n",
        "print(selectionSort([5,3,6,2,10]))"
      ],
      "metadata": {
        "colab": {
          "base_uri": "https://localhost:8080/"
        },
        "id": "epvASMORABqT",
        "outputId": "e9184262-aa73-4b7c-b0b0-bdeea0e7b5bd"
      },
      "execution_count": 5,
      "outputs": [
        {
          "output_type": "stream",
          "name": "stdout",
          "text": [
            "[2, 3, 5, 6, 10]\n"
          ]
        }
      ]
    },
    {
      "cell_type": "markdown",
      "source": [
        "# Challenges"
      ],
      "metadata": {
        "id": "7ASnT6nLB_iQ"
      }
    },
    {
      "cell_type": "markdown",
      "source": [
        "## Sudoku Solver\n",
        "\n",
        "Sudoku Solver\n",
        "Write the function sudokuSolve that checks whether a given sudoku board (i.e. sudoku puzzle) is solvable. If so, the function will returns true. Otherwise (i.e. there is no valid solution to the given sudoku board), returns false.\n",
        "\n",
        "In sudoku, the objective is to fill a 9x9 board with digits so that each column, each row, and each of the nine 3x3 sub-boards that compose the board contains all of the digits from 1 to 9. The board setter provides a partially completed board, which for a well-posed board has a unique solution. As explained above, for this problem, it suffices to calculate whether a given sudoku board has a solution. No need to return the actual numbers that make up a solution.\n",
        "\n",
        "A sudoku board is represented as a two-dimensional 9x9 array of the characters ‘1’,‘2’,…,‘9’ and the '.' character, which represents a blank space. The function should fill the blank spaces with characters such that the following rules apply:\n",
        "\n",
        "In every row of the array, all characters ‘1’,‘2’,…,‘9’ appear exactly once.\n",
        "In every column of the array, all characters ‘1’,‘2’,…,‘9’ appear exactly once.\n",
        "In every 3x3 sub-board that is illustrated below, all characters ‘1’,‘2’,…,‘9’ appear exactly once.\n",
        "A solved sudoku is a board with no blank spaces, i.e. all blank spaces are filled with characters that abide to the constraints above. If the function succeeds in solving the sudoku board, it’ll return true (false, otherwise).\n",
        "\n",
        "Example (more examples can be found here):\n",
        "\n",
        "altA typical Sudoku board setter\n",
        "\n",
        "altThe same board with solution numbers marked in red\n",
        "\n",
        "Write a readable an efficient code, explain how it is built and why you chose to build it that way."
      ],
      "metadata": {
        "id": "PRN3veFcBkTQ"
      }
    },
    {
      "cell_type": "code",
      "source": [
        "def sudokuSolve(board):\n",
        "  return"
      ],
      "metadata": {
        "id": "1rRVLq39BwR6"
      },
      "execution_count": null,
      "outputs": []
    }
  ]
}